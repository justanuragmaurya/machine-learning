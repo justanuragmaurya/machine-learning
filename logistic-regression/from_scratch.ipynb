{
  "cells": [
    {
      "cell_type": "code",
      "execution_count": null,
      "metadata": {
        "id": "dv0lbi4IyB4W"
      },
      "outputs": [],
      "source": [
        "import pandas as pd\n",
        "import numpy as np\n",
        "from sklearn.preprocessing import StandardScaler"
      ]
    },
    {
      "cell_type": "code",
      "execution_count": 3,
      "metadata": {
        "colab": {
          "base_uri": "https://localhost:8080/"
        },
        "id": "b1303510",
        "outputId": "b36c8417-3da4-4dde-e01f-c68e17e4e5df"
      },
      "outputs": [
        {
          "name": "stdout",
          "output_type": "stream",
          "text": [
            "   Survived  Pclass  Sex        Age  SibSp  Parch Embarked\n",
            "0         0       3    0  22.000000      1      0        S\n",
            "1         1       1    1  38.000000      1      0        C\n",
            "2         1       3    1  26.000000      0      0        S\n",
            "3         1       1    1  35.000000      1      0        S\n",
            "4         0       3    0  35.000000      0      0        S\n",
            "5         0       3    0  29.699118      0      0        Q\n",
            "6         0       1    0  54.000000      0      0        S\n",
            "7         0       3    0   2.000000      3      1        S\n",
            "8         1       3    1  27.000000      0      2        S\n",
            "9         1       2    1  14.000000      1      0        C\n"
          ]
        }
      ],
      "source": [
        "df = pd.read_csv('train.csv')\n",
        "df = df.drop(labels=['PassengerId' , 'Name' , 'Ticket', 'Cabin' , 'Fare'],axis=1)\n",
        "df['Sex'] = df['Sex'].map({\"male\": 0, \"female\": 1})\n",
        "df['Age'] = df['Age'].fillna(df['Age'].mean())\n",
        "print(df.head(n=10))\n",
        "\n",
        "\n",
        "\n"
      ]
    },
    {
      "cell_type": "code",
      "execution_count": 4,
      "metadata": {
        "id": "7U0Vg58m5Lus"
      },
      "outputs": [],
      "source": [
        "embarked_dummies = pd.get_dummies(df['Embarked'], prefix='Embarked')\n",
        "df = pd.concat([df,embarked_dummies],axis=1)\n",
        "df = df.drop(labels=['Embarked'],axis=1)"
      ]
    },
    {
      "cell_type": "code",
      "execution_count": 5,
      "metadata": {
        "colab": {
          "base_uri": "https://localhost:8080/"
        },
        "id": "uFdPH8xS5rx8",
        "outputId": "6aa0f02d-a65a-4e32-b4f9-455a1cff862b"
      },
      "outputs": [
        {
          "name": "stdout",
          "output_type": "stream",
          "text": [
            "   Survived  Pclass  Sex        Age  SibSp  Parch  Embarked_C  Embarked_Q  \\\n",
            "0         0       3    0  22.000000      1      0       False       False   \n",
            "1         1       1    1  38.000000      1      0        True       False   \n",
            "2         1       3    1  26.000000      0      0       False       False   \n",
            "3         1       1    1  35.000000      1      0       False       False   \n",
            "4         0       3    0  35.000000      0      0       False       False   \n",
            "5         0       3    0  29.699118      0      0       False        True   \n",
            "6         0       1    0  54.000000      0      0       False       False   \n",
            "7         0       3    0   2.000000      3      1       False       False   \n",
            "8         1       3    1  27.000000      0      2       False       False   \n",
            "9         1       2    1  14.000000      1      0        True       False   \n",
            "\n",
            "   Embarked_S  \n",
            "0        True  \n",
            "1       False  \n",
            "2        True  \n",
            "3        True  \n",
            "4        True  \n",
            "5       False  \n",
            "6        True  \n",
            "7        True  \n",
            "8        True  \n",
            "9       False  \n"
          ]
        }
      ],
      "source": [
        "print(df.head(n=10))"
      ]
    },
    {
      "cell_type": "markdown",
      "metadata": {
        "id": "7wBnABTz8LxG"
      },
      "source": [
        "$$\\sigma(z) = \\frac{1}{1 + e^{-z}}$$\n",
        "\n",
        "$$\\text{Cost}(p, y) = -[y \\cdot \\log(p) + (1-y) \\cdot \\log(1-p)]$$"
      ]
    },
    {
      "cell_type": "code",
      "execution_count": 6,
      "metadata": {
        "id": "aIrKBVqM7zAx"
      },
      "outputs": [],
      "source": [
        "def sigmoid(z):\n",
        "  return 1 / (1 + np.exp(-z))\n",
        "\n",
        "# not actually being used since we write the derivate of this in the gradient decent\n",
        "def loss_fx(y_true,y_predict):\n",
        "  return -np.mean(y_true * np.log(y_predict) + (1 - y_true) * np.log(1 - y_predict))\n"
      ]
    },
    {
      "cell_type": "code",
      "execution_count": 7,
      "metadata": {
        "id": "c2YpTGRt8Qi2"
      },
      "outputs": [],
      "source": [
        "def gradient_decent(X , y_true , epochs , l ):\n",
        "  num_features = X.shape[1]\n",
        "  weights = np.zeros(num_features)\n",
        "\n",
        "  for i in range(epochs):\n",
        "    z = np.dot(X,weights)\n",
        "    y_predict = sigmoid(z)\n",
        "\n",
        "    m = len(y_true)\n",
        "    gradient = (1/m) * np.dot(X.T,y_predict - y_true)\n",
        "    weights -= l * gradient\n",
        "\n",
        "  return weights\n"
      ]
    },
    {
      "cell_type": "code",
      "execution_count": null,
      "metadata": {
        "id": "xMEn9hiAQZSV"
      },
      "outputs": [],
      "source": [
        "X = df.drop(labels=['Survived'],axis=1)\n",
        "y_true = df['Survived']\n",
        "\n",
        "# scaling the features\n",
        "scaler = StandardScaler()\n",
        "X_scaled = scaler.fit_transform(X)"
      ]
    },
    {
      "cell_type": "code",
      "execution_count": null,
      "metadata": {
        "colab": {
          "base_uri": "https://localhost:8080/"
        },
        "id": "46x-PDr2RnAD",
        "outputId": "7f4daa83-222d-4f06-9438-441537055e01"
      },
      "outputs": [
        {
          "name": "stdout",
          "output_type": "stream",
          "text": [
            "[-0.91937278  1.32125266 -0.49805296 -0.30633908 -0.08628599 -0.19085539\n",
            " -0.17924618 -0.43963549]\n"
          ]
        }
      ],
      "source": [
        "weights = gradient_decent(X_scaled,y_true,10000,0.1)\n",
        "print(weights)"
      ]
    },
    {
      "cell_type": "code",
      "execution_count": null,
      "metadata": {
        "id": "2ec_xFFXTTzP"
      },
      "outputs": [],
      "source": [
        "# preparing the testing datasets\n",
        "test_df = pd.read_csv('test.csv')\n",
        "\n",
        "age_mean_train = X['Age'].mean()\n",
        "test_df['Age'] = test_df['Age'].fillna(age_mean_train)\n",
        "\n",
        "test_df['Sex'] = test_df['Sex'].map({\"male\": 0, \"female\": 1})\n",
        "embarked_dummies = pd.get_dummies(test_df['Embarked'], prefix='Embarked')\n",
        "test_df = pd.concat([test_df, embarked_dummies], axis=1)\n",
        "\n",
        "train_columns = X.columns\n",
        "X_test = test_df.reindex(columns=train_columns, fill_value=0)\n",
        "X_test_scaled = scaler.transform(X_test)"
      ]
    },
    {
      "cell_type": "code",
      "execution_count": null,
      "metadata": {
        "id": "nOlLTT07XN5b"
      },
      "outputs": [],
      "source": [
        "z_test = np.dot(X_test_scaled, weights)\n",
        "y_pred_test_probs = sigmoid(z_test)\n",
        "y_pred_test_classes = (y_pred_test_probs > 0.5).astype(int)"
      ]
    },
    {
      "cell_type": "code",
      "execution_count": null,
      "metadata": {
        "colab": {
          "base_uri": "https://localhost:8080/"
        },
        "id": "GRCGUCMvXlUn",
        "outputId": "1ad92906-dc65-4d31-83db-c0c7887fc262"
      },
      "outputs": [
        {
          "name": "stdout",
          "output_type": "stream",
          "text": [
            "0.8851674641148325\n"
          ]
        }
      ],
      "source": [
        "y_test_true = pd.read_csv('gender_submission.csv')\n",
        "\n",
        "from sklearn.metrics import accuracy_score\n",
        "accuracy = accuracy_score(y_test_true['Survived'],y_pred_test_classes)\n",
        "print(accuracy)"
      ]
    }
  ],
  "metadata": {
    "colab": {
      "provenance": []
    },
    "kernelspec": {
      "display_name": ".venv",
      "language": "python",
      "name": "python3"
    },
    "language_info": {
      "codemirror_mode": {
        "name": "ipython",
        "version": 3
      },
      "file_extension": ".py",
      "mimetype": "text/x-python",
      "name": "python",
      "nbconvert_exporter": "python",
      "pygments_lexer": "ipython3",
      "version": "3.13.7"
    }
  },
  "nbformat": 4,
  "nbformat_minor": 0
}
